{
 "cells": [
  {
   "cell_type": "code",
   "execution_count": 1,
   "id": "468cca1b",
   "metadata": {},
   "outputs": [],
   "source": [
    "# BINARY SEARCH"
   ]
  },
  {
   "cell_type": "code",
   "execution_count": 14,
   "id": "13dbb6dc",
   "metadata": {},
   "outputs": [],
   "source": [
    "def locate_element(arr,key):\n",
    "    left = 0\n",
    "    right = len(arr)-1\n",
    "    \n",
    "    while left <= right:\n",
    "        mid = int((left + right) / 2)\n",
    "        if key == arr[mid]:\n",
    "            return mid\n",
    "        elif key < arr[mid]:\n",
    "            right = mid-1\n",
    "        else:\n",
    "            left = mid+1\n",
    "        \n",
    "    return -1"
   ]
  },
  {
   "cell_type": "code",
   "execution_count": 17,
   "id": "90a8bd85",
   "metadata": {},
   "outputs": [
    {
     "name": "stdout",
     "output_type": "stream",
     "text": [
      "4\n"
     ]
    }
   ],
   "source": [
    "ans = locate_element([1,4,5,7,22,75,253,2232],22)\n",
    "\n",
    "print(ans)"
   ]
  },
  {
   "cell_type": "code",
   "execution_count": null,
   "id": "c45d3568",
   "metadata": {},
   "outputs": [],
   "source": []
  }
 ],
 "metadata": {
  "kernelspec": {
   "display_name": "Python 3 (ipykernel)",
   "language": "python",
   "name": "python3"
  },
  "language_info": {
   "codemirror_mode": {
    "name": "ipython",
    "version": 3
   },
   "file_extension": ".py",
   "mimetype": "text/x-python",
   "name": "python",
   "nbconvert_exporter": "python",
   "pygments_lexer": "ipython3",
   "version": "3.9.13"
  }
 },
 "nbformat": 4,
 "nbformat_minor": 5
}
