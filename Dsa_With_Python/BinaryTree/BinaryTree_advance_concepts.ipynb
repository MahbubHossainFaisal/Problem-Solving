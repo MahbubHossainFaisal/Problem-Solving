{
 "cells": [
  {
   "cell_type": "markdown",
   "id": "a41df7c5",
   "metadata": {},
   "source": [
    "# Binary Tree Structure"
   ]
  },
  {
   "cell_type": "code",
   "execution_count": 9,
   "id": "0fd8874b",
   "metadata": {},
   "outputs": [],
   "source": [
    "\n",
    "\n",
    "class BinaryTree:\n",
    "    def __init__(self,data):\n",
    "        self.data = data\n",
    "        self.left = None\n",
    "        self.right = None\n",
    "    \n",
    "# Create Function for Binary Tree\n",
    "\n",
    "\n",
    "def createBinaryTree():\n",
    "    data = int(input('Please provide data for root: '))\n",
    "    if data == -1:\n",
    "        return None\n",
    "    mainroot = BinaryTree(data)\n",
    "    queue = [mainroot]\n",
    "    \n",
    "    while len(queue) != 0:\n",
    "        root = queue.pop(0)\n",
    "        lcData = int(input(f\"Please provide data for left child of {root.data}:  \"))\n",
    "        \n",
    "        if lcData != -1:\n",
    "            leftChild = BinaryTree(lcData)\n",
    "            root.left = leftChild\n",
    "            queue.append(leftChild)\n",
    "        rcData = int(input(f\"Please provide data for right child of {root.data}:  \"))\n",
    "        \n",
    "        if rcData != -1:\n",
    "            rightChild = BinaryTree(rcData)\n",
    "            root.right = rightChild\n",
    "            queue.append(rightChild)\n",
    "        \n",
    "    return mainroot\n",
    "            \n",
    "    \n",
    "# Print Binary Tree\n",
    "\n",
    "def printBinaryTree(root):\n",
    "    if root == None:\n",
    "        print('The Tree is empty')\n",
    "        return\n",
    "    queue = [root]\n",
    "    print('root data ->',root.data)\n",
    "    while len(queue) != 0:\n",
    "        root = queue.pop(0) #getting the front element\n",
    "        if root.left:\n",
    "            print(f\"left child of {root.data}: \",root.left.data)\n",
    "            queue.append(root.left)\n",
    "        if root.right:\n",
    "            print(f\"right child of {root.data}: \",root.right.data)\n",
    "            queue.append(root.right)"
   ]
  },
  {
   "cell_type": "markdown",
   "id": "8761b0da",
   "metadata": {},
   "source": [
    "#  Remove leaf nodes from Binary Tree"
   ]
  },
  {
   "cell_type": "code",
   "execution_count": 10,
   "id": "6af90cf0",
   "metadata": {},
   "outputs": [],
   "source": [
    "def removeLeafNodes(root):\n",
    "    if root == None:\n",
    "        return root\n",
    "    \n",
    "    if root.left == None and root.right == None:\n",
    "        return None\n",
    "    \n",
    "    root.left = removeLeafNodes(root.left)\n",
    "    root.right = removeLeafNodes(root.right)\n",
    "    \n",
    "    return root\n",
    "    "
   ]
  },
  {
   "cell_type": "markdown",
   "id": "22c6ae74",
   "metadata": {},
   "source": [
    "# If a Binary Tree is balanced or Not"
   ]
  },
  {
   "cell_type": "code",
   "execution_count": 11,
   "id": "7b4faecd",
   "metadata": {},
   "outputs": [],
   "source": [
    "def height(root):\n",
    "    if root is None:\n",
    "        return 0\n",
    "    \n",
    "    left_height = height(root.left)\n",
    "    right_height = height(root.right)\n",
    "    \n",
    "    return 1 + max(left_height, right_height)\n",
    "\n",
    "\n",
    "def is_balanced(root):\n",
    "    if root is None:\n",
    "        return True\n",
    "    \n",
    "    left_height = height(root.left)\n",
    "    right_height = height(root.right)\n",
    "    \n",
    "    if abs(left_height - right_height) > 1:\n",
    "        return False\n",
    "  \n",
    "    left_balance = is_balanced(root.left)\n",
    "    right_balance = is_balanced(root.right)\n",
    "    \n",
    "    return left_balance and right_balance"
   ]
  },
  {
   "cell_type": "markdown",
   "id": "dc21f6a7",
   "metadata": {},
   "source": [
    "# If a Binary Tree is Balanced or Not (Efficient)"
   ]
  },
  {
   "cell_type": "code",
   "execution_count": 12,
   "id": "5666bba6",
   "metadata": {},
   "outputs": [],
   "source": [
    "def checkHeightandBalance(root):\n",
    "    if root == None:\n",
    "        return 0,None\n",
    "    \n",
    "    lh,checkLeftBalance = checkHeightandBalance(root.left)\n",
    "    rh,checkRightBalance = checkHeightandBalance(root.right)\n",
    "    \n",
    "    height = 1 + max(lh,rh)\n",
    "    \n",
    "    if lh-rh > 1 or rh-lh > 1:\n",
    "        return False\n",
    "    if checkLeftBalance and checkRightBalance:\n",
    "        return height,True\n",
    "    else:\n",
    "        return height,False\n",
    "    \n",
    "    "
   ]
  },
  {
   "cell_type": "code",
   "execution_count": 13,
   "id": "15061576",
   "metadata": {},
   "outputs": [],
   "source": [
    "def isBalancedEfficient(root):\n",
    "    height,res = checkHeightandBalance(root)\n",
    "    \n",
    "    return res\n"
   ]
  },
  {
   "cell_type": "markdown",
   "id": "2fefb629",
   "metadata": {},
   "source": [
    "# From PreOrder and InOrder nodes, Making a Binary Tree"
   ]
  },
  {
   "cell_type": "code",
   "execution_count": 14,
   "id": "626dadc3",
   "metadata": {},
   "outputs": [],
   "source": [
    "def preIntoBT(preOrder,inOrder):\n",
    "    if len(preOrder) == 0:\n",
    "        return None\n",
    "    rootData = preOrder[0]\n",
    "    root = BinaryTree(rootData)\n",
    "    \n",
    "    rootIndex = -1\n",
    "    \n",
    "    for i in range(0,len(inOrder)):\n",
    "        if inOrder[i] == rootData:\n",
    "            rootIndex = i\n",
    "            break\n",
    "            \n",
    "    if rootIndex == -1:\n",
    "        return None #means no matched value found in Inorder array\n",
    "    \n",
    "    leftInOrder = inOrder[0:rootIndex]\n",
    "    rightInOrder = inOrder[rootIndex+1 :]\n",
    "    \n",
    "    leftPreOrder = preOrder[1:len(leftInOrder)+1]\n",
    "    rightPreOrder= preOrder[len(leftInOrder) + 1:]\n",
    "    \n",
    "    \n",
    "    root.left = preIntoBT(leftPreOrder,leftInOrder)\n",
    "    root.right = preIntoBT(rightPreOrder,rightInOrder)\n",
    "    \n",
    "    return root"
   ]
  },
  {
   "cell_type": "markdown",
   "id": "eaa1de4b",
   "metadata": {},
   "source": [
    "# From InOrder and PostOrder nodes, making a Binary Tree"
   ]
  },
  {
   "cell_type": "code",
   "execution_count": 15,
   "id": "540d1785",
   "metadata": {},
   "outputs": [],
   "source": [
    "def inPosttoBT(inOrder,postOrder):\n",
    "    if len(postOrder) == 0:\n",
    "        return None\n",
    "    \n",
    "    rootData = postOrder[len(postOrder)-1]\n",
    "    root = BinaryTree(rootData)\n",
    "    rootIndex = -1\n",
    "    \n",
    "    for i in range(0,len(inOrder)):\n",
    "        if inOrder[i] == rootData:\n",
    "            rootIndex = i\n",
    "            break\n",
    "            \n",
    "    if rootIndex == -1:\n",
    "        return None #means no matched value found in Inorder array\n",
    "    \n",
    "    \n",
    "    leftInOrder = inOrder[0:rootIndex]\n",
    "    rightInOrder = inOrder[rootIndex+1 :]\n",
    "    \n",
    "    leftPostOrder = postOrder[0:len(leftInOrder)]\n",
    "    rightPostOrder = postOrder[len(leftInOrder): len(postOrder)-1]\n",
    "    \n",
    "    root.left = inPosttoBT(leftInOrder,leftPostOrder)\n",
    "    root.right = inPosttoBT(rightInOrder,rightPostOrder)\n",
    "    \n",
    "    return root"
   ]
  },
  {
   "cell_type": "code",
   "execution_count": null,
   "id": "0e6cf04b",
   "metadata": {},
   "outputs": [],
   "source": []
  },
  {
   "cell_type": "raw",
   "id": "c881994c",
   "metadata": {},
   "source": [
    "root = createBinaryTree()\n",
    "printBinaryTree(root)\n",
    "removeLeafNodes(root)\n",
    "printBinaryTree(root)\n",
    "\n",
    "print(\"Height is : \", height(root))\n",
    "\n",
    "ans = is_balanced(root)\n",
    "print(ans)\n",
    "\n",
    "\n",
    "ans = isBalancedEfficient(root)\n",
    "print(ans)\n"
   ]
  },
  {
   "cell_type": "markdown",
   "id": "81ec43b8",
   "metadata": {},
   "source": [
    "# "
   ]
  },
  {
   "cell_type": "code",
   "execution_count": 16,
   "id": "7dfd358d",
   "metadata": {},
   "outputs": [
    {
     "name": "stdout",
     "output_type": "stream",
     "text": [
      "root data -> 1\n",
      "left child of 1:  2\n",
      "right child of 1:  3\n",
      "left child of 2:  4\n",
      "right child of 2:  5\n",
      "left child of 3:  6\n",
      "right child of 3:  7\n"
     ]
    }
   ],
   "source": [
    "preOrder = [1,2,4,5,3,6,7]\n",
    "inOrder = [4,2,5,1,6,3,7]\n",
    "postOrder = [4,5,2,6,7,3,1]\n",
    "\n",
    "root = inPosttoBT(inOrder,postOrder)\n",
    "\n",
    "printBinaryTree(root)"
   ]
  },
  {
   "cell_type": "code",
   "execution_count": null,
   "id": "63035532",
   "metadata": {},
   "outputs": [],
   "source": []
  }
 ],
 "metadata": {
  "kernelspec": {
   "display_name": "Python 3 (ipykernel)",
   "language": "python",
   "name": "python3"
  },
  "language_info": {
   "codemirror_mode": {
    "name": "ipython",
    "version": 3
   },
   "file_extension": ".py",
   "mimetype": "text/x-python",
   "name": "python",
   "nbconvert_exporter": "python",
   "pygments_lexer": "ipython3",
   "version": "3.9.13"
  }
 },
 "nbformat": 4,
 "nbformat_minor": 5
}
