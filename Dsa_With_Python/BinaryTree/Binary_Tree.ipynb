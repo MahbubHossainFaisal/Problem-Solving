{
 "cells": [
  {
   "cell_type": "markdown",
   "id": "2e6bde22",
   "metadata": {},
   "source": [
    "# Binary Tree"
   ]
  },
  {
   "cell_type": "raw",
   "id": "d23aef2c",
   "metadata": {},
   "source": [
    "Tree Structure"
   ]
  },
  {
   "cell_type": "code",
   "execution_count": 1,
   "id": "4ef026b8",
   "metadata": {},
   "outputs": [],
   "source": [
    "class BinaryTree:\n",
    "    def __init__(self,data):\n",
    "        self.data = data\n",
    "        self.left = None\n",
    "        self.right = None\n",
    "    "
   ]
  },
  {
   "cell_type": "raw",
   "id": "6e9752e4",
   "metadata": {},
   "source": [
    "Create Function for Binary Tree"
   ]
  },
  {
   "cell_type": "code",
   "execution_count": 2,
   "id": "8ae07fbd",
   "metadata": {},
   "outputs": [],
   "source": [
    "def createBinaryTree():\n",
    "    data = int(input('Please provide data for root: '))\n",
    "    if data == -1:\n",
    "        return None\n",
    "    mainroot = BinaryTree(data)\n",
    "    queue = [mainroot]\n",
    "    \n",
    "    while len(queue) != 0:\n",
    "        root = queue.pop(0)\n",
    "        lcData = int(input(f\"Please provide data for left child of {root.data}:  \"))\n",
    "        \n",
    "        if lcData != -1:\n",
    "            leftChild = BinaryTree(lcData)\n",
    "            root.left = leftChild\n",
    "            queue.append(leftChild)\n",
    "        rcData = int(input(f\"Please provide data for right child of {root.data}:  \"))\n",
    "        \n",
    "        if rcData != -1:\n",
    "            rightChild = BinaryTree(rcData)\n",
    "            root.right = rightChild\n",
    "            queue.append(rightChild)\n",
    "        \n",
    "    return mainroot\n",
    "            \n",
    "    "
   ]
  },
  {
   "cell_type": "raw",
   "id": "93860bb4",
   "metadata": {},
   "source": [
    "Print Binary Tree"
   ]
  },
  {
   "cell_type": "code",
   "execution_count": 3,
   "id": "163ea47d",
   "metadata": {},
   "outputs": [],
   "source": [
    "def printBinaryTree(root):\n",
    "    if root == None:\n",
    "        print('The Tree is empty')\n",
    "        return\n",
    "    queue = [root]\n",
    "    print('root data ->',root.data)\n",
    "    while len(queue) != 0:\n",
    "        root = queue.pop(0) #getting the front element\n",
    "        if root.left:\n",
    "            print(f\"left child of {root.data}: \",root.left.data)\n",
    "            queue.append(root.left)\n",
    "        if root.right:\n",
    "            print(f\"right child of {root.data}: \",root.right.data)\n",
    "            queue.append(root.right)\n",
    "        "
   ]
  },
  {
   "cell_type": "markdown",
   "id": "a6b8a04f",
   "metadata": {},
   "source": [
    "# Traversal"
   ]
  },
  {
   "cell_type": "raw",
   "id": "841f16cf",
   "metadata": {},
   "source": [
    "Pre Order Traversal"
   ]
  },
  {
   "cell_type": "code",
   "execution_count": 4,
   "id": "505c7915",
   "metadata": {},
   "outputs": [],
   "source": [
    "def PreOrderTraversal(root):\n",
    "    if root == None:\n",
    "        return\n",
    "    print(root.data)\n",
    "    PreOrderTraversal(root.left)\n",
    "    PreOrderTraversal(root.right)\n",
    "    "
   ]
  },
  {
   "cell_type": "raw",
   "id": "da43f3ce",
   "metadata": {},
   "source": [
    "Post Order Traversal"
   ]
  },
  {
   "cell_type": "code",
   "execution_count": 5,
   "id": "47186016",
   "metadata": {},
   "outputs": [],
   "source": [
    "def PostOrderTraversal(root):\n",
    "    if root == None:\n",
    "        return\n",
    "    PostOrderTraversal(root.left)\n",
    "    PostOrderTraversal(root.right)\n",
    "    print(root.data)"
   ]
  },
  {
   "cell_type": "raw",
   "id": "d07ffeba",
   "metadata": {},
   "source": [
    "InOrder Traversal"
   ]
  },
  {
   "cell_type": "code",
   "execution_count": 6,
   "id": "b4c59890",
   "metadata": {},
   "outputs": [],
   "source": [
    "def InOrderTraversal(root):\n",
    "    if root == None:\n",
    "        return\n",
    "    InOrderTraversal(root.left)\n",
    "    print(root.data)\n",
    "    InOrderTraversal(root.right)\n",
    "    "
   ]
  },
  {
   "cell_type": "raw",
   "id": "4b99b8e0",
   "metadata": {},
   "source": [
    "Level Order Traversal Iterative"
   ]
  },
  {
   "cell_type": "code",
   "execution_count": 7,
   "id": "ecc3ed04",
   "metadata": {},
   "outputs": [],
   "source": [
    "def LevelOrderTraversal(root):\n",
    "    if root == None:\n",
    "        return\n",
    "    \n",
    "    queue = [root]\n",
    "    while len(queue) !=0:\n",
    "        root = queue.pop(0)\n",
    "        print(root.data,end=' ')\n",
    "        if root.left:\n",
    "            queue.append(root.left)\n",
    "        if root.right:\n",
    "            queue.append(root.right)\n",
    "        \n",
    "    "
   ]
  },
  {
   "cell_type": "markdown",
   "id": "2ce551c3",
   "metadata": {},
   "source": [
    "# Number of Nodes in a Binary Tree"
   ]
  },
  {
   "cell_type": "code",
   "execution_count": 8,
   "id": "2ed8a104",
   "metadata": {},
   "outputs": [],
   "source": [
    "def numOfNodes(root):\n",
    "    if root == None:\n",
    "        return 0\n",
    "    leftChild = numOfNodes(root.left)\n",
    "    rightChild = numOfNodes(root.right)\n",
    "    return 1 + leftChild + rightChild"
   ]
  },
  {
   "cell_type": "markdown",
   "id": "b6c38959",
   "metadata": {},
   "source": [
    "# Height Of a Binary tree"
   ]
  },
  {
   "cell_type": "code",
   "execution_count": 9,
   "id": "f2ef6385",
   "metadata": {},
   "outputs": [],
   "source": [
    "def heightOfTree(root):\n",
    "    if root == None:\n",
    "        return 0\n",
    "    leftheight = heightOfTree(root.left)\n",
    "    rightheight = heightOfTree(root.right)\n",
    "    \n",
    "    return 1 + max(leftheight,rightheight)\n"
   ]
  },
  {
   "cell_type": "markdown",
   "id": "2603007b",
   "metadata": {},
   "source": [
    "# Print nodes at depth K"
   ]
  },
  {
   "cell_type": "code",
   "execution_count": 10,
   "id": "512961b6",
   "metadata": {},
   "outputs": [],
   "source": [
    "def depthOfNode(root,k):\n",
    "    if root == None:\n",
    "        return\n",
    "    if k==0:\n",
    "        print(root.data,end=' ')\n",
    "    leftTree = depthOfNode(root.left,k-1)\n",
    "    rightTree = depthOfNode(root.right,k-1)\n",
    "    "
   ]
  },
  {
   "cell_type": "markdown",
   "id": "c2bfe44d",
   "metadata": {},
   "source": [
    "# Number of leaf Nodes"
   ]
  },
  {
   "cell_type": "code",
   "execution_count": 11,
   "id": "3e614587",
   "metadata": {},
   "outputs": [],
   "source": [
    "def numOfLeafs(root):\n",
    "    if root == None:\n",
    "        return 0\n",
    "    if root.left == None and root.right == None:\n",
    "        return 1\n",
    "    \n",
    "    leftTree = numOfLeafs(root.left)\n",
    "    rightTree = numOfLeafs(root.right)\n",
    "    \n",
    "    return leftTree+rightTree"
   ]
  },
  {
   "cell_type": "markdown",
   "id": "5eb6d087",
   "metadata": {},
   "source": [
    "# Is Binary Tree a BST ?"
   ]
  },
  {
   "cell_type": "code",
   "execution_count": 12,
   "id": "ca1bb285",
   "metadata": {},
   "outputs": [],
   "source": [
    "def minimum(root):\n",
    "    if root == None:\n",
    "        return 100000\n",
    "    \n",
    "    leftMin = minimum(root.left)\n",
    "    rightMin = minimum(root.right)\n",
    "    \n",
    "    return min(leftMin,root.data,rightMin)\n",
    "\n",
    "def maximum(root):\n",
    "    if root == None:\n",
    "        return -100000\n",
    "    \n",
    "    leftMax = maximum(root.left)\n",
    "    rightMax = maximum(root.right)\n",
    "    \n",
    "    return max(leftMax,root.data,rightMax)\n",
    "\n",
    "def isBST(root):\n",
    "    if root == None:\n",
    "        return True\n",
    "    \n",
    "    leftMax = maximum(root.left)\n",
    "    rightMin = minimum(root.right)\n",
    "    \n",
    "    if leftMax >= root.data or rightMin < root.data:\n",
    "        return False\n",
    "\n",
    "    isLeftBST = isBST(root.left)\n",
    "    isRightBST = isBST(root.right)\n",
    "    \n",
    "    return isLeftBST and isRightBST"
   ]
  },
  {
   "cell_type": "markdown",
   "id": "e156fa85",
   "metadata": {},
   "source": [
    "# Is Binary Tree a BST? (Efficient)"
   ]
  },
  {
   "cell_type": "code",
   "execution_count": 13,
   "id": "225f0f1a",
   "metadata": {},
   "outputs": [],
   "source": [
    "def isBST2(root):\n",
    "    if root == None:\n",
    "        return 100000,-100000,True\n",
    "    \n",
    "    leftMin,leftMax,isLeftBST = isBST2(root.left)\n",
    "    rightMin,rightMax,isRightBST = isBST2(root.right)\n",
    "    \n",
    "    minimum = min(leftMin,root.data,rightMin)\n",
    "    maximum = max(leftMax,root.data,rightMax)\n",
    "    isTreeBST = True\n",
    "    \n",
    "    if root.data <= leftMax or root.data > rightMin:\n",
    "        isTreeBST = False\n",
    "    \n",
    "    if not(isLeftBST) or not(isRightBST):\n",
    "        isTreeBST = False\n",
    "    \n",
    "    return minimum,maximum,isTreeBST\n",
    "\n"
   ]
  },
  {
   "cell_type": "code",
   "execution_count": null,
   "id": "bccf0ed7",
   "metadata": {},
   "outputs": [],
   "source": []
  },
  {
   "cell_type": "code",
   "execution_count": 20,
   "id": "5ab5559b",
   "metadata": {},
   "outputs": [
    {
     "name": "stdout",
     "output_type": "stream",
     "text": [
      "Please provide data for root: 10\n",
      "Please provide data for left child of 10:  5\n",
      "Please provide data for right child of 10:  15\n",
      "Please provide data for left child of 5:  4\n",
      "Please provide data for right child of 5:  6\n",
      "Please provide data for left child of 15:  12\n",
      "Please provide data for right child of 15:  16\n",
      "Please provide data for left child of 4:  -1\n",
      "Please provide data for right child of 4:  -1\n",
      "Please provide data for left child of 6:  -1\n",
      "Please provide data for right child of 6:  -1\n",
      "Please provide data for left child of 12:  -1\n",
      "Please provide data for right child of 12:  -1\n",
      "Please provide data for left child of 16:  -1\n",
      "Please provide data for right child of 16:  -1\n",
      "root data -> 10\n",
      "left child of 10:  5\n",
      "right child of 10:  15\n",
      "left child of 5:  4\n",
      "right child of 5:  6\n",
      "left child of 15:  12\n",
      "right child of 15:  16\n",
      "\n",
      "Pre Order: \n",
      "10\n",
      "5\n",
      "4\n",
      "6\n",
      "15\n",
      "12\n",
      "16\n",
      "Post Order: \n",
      "4\n",
      "6\n",
      "5\n",
      "12\n",
      "16\n",
      "15\n",
      "10\n",
      "In Order: \n",
      "4\n",
      "5\n",
      "6\n",
      "10\n",
      "12\n",
      "15\n",
      "16\n",
      "Level Order: \n",
      "10 5 15 4 6 12 16 Number of nodes:  7\n",
      "Height:  3\n",
      "Nodes at Depth K: \n",
      "4 6 12 16 \n",
      "Number of leaf nodes: \n",
      "4\n",
      "This is a binary search tree\n"
     ]
    }
   ],
   "source": [
    "root = createBinaryTree()\n",
    "printBinaryTree(root)\n",
    "print()\n",
    "print(\"Pre Order: \")\n",
    "PreOrderTraversal(root)\n",
    "print(\"Post Order: \")\n",
    "PostOrderTraversal(root)\n",
    "print('In Order: ')\n",
    "InOrderTraversal(root)\n",
    "print('Level Order: ')\n",
    "LevelOrderTraversal(root)\n",
    "\n",
    "num = numOfNodes(root)\n",
    "print('Number of nodes: ',num)\n",
    "\n",
    "height = heightOfTree(root)\n",
    "print('Height: ', height)\n",
    "\n",
    "print('Nodes at Depth K: ')\n",
    "depthOfNode(root,2)\n",
    "\n",
    "print()\n",
    "print('Number of leaf nodes: ')\n",
    "leafs = numOfLeafs(root)\n",
    "print(leafs)\n",
    "\n",
    "ans = isBST(root)\n",
    "\n",
    "if ans:\n",
    "    print('This is a binary search tree')\n",
    "else:\n",
    "    print('This is not a binary search tree')\n",
    "    \n",
    "    "
   ]
  },
  {
   "cell_type": "markdown",
   "id": "c674bfa1",
   "metadata": {},
   "source": [
    "# "
   ]
  },
  {
   "cell_type": "markdown",
   "id": "c6a36935",
   "metadata": {},
   "source": [
    "# "
   ]
  },
  {
   "cell_type": "code",
   "execution_count": null,
   "id": "6df6d078",
   "metadata": {},
   "outputs": [],
   "source": []
  }
 ],
 "metadata": {
  "kernelspec": {
   "display_name": "Python 3 (ipykernel)",
   "language": "python",
   "name": "python3"
  },
  "language_info": {
   "codemirror_mode": {
    "name": "ipython",
    "version": 3
   },
   "file_extension": ".py",
   "mimetype": "text/x-python",
   "name": "python",
   "nbconvert_exporter": "python",
   "pygments_lexer": "ipython3",
   "version": "3.9.13"
  }
 },
 "nbformat": 4,
 "nbformat_minor": 5
}
